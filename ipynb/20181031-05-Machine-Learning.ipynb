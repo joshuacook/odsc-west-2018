{
 "cells": [
  {
   "cell_type": "code",
   "execution_count": 1,
   "metadata": {},
   "outputs": [
    {
     "name": "stdout",
     "output_type": "stream",
     "text": [
      "/home/jovyan\n"
     ]
    }
   ],
   "source": [
    "cd /home/jovyan"
   ]
  },
  {
   "cell_type": "code",
   "execution_count": 2,
   "metadata": {},
   "outputs": [],
   "source": [
    "import pandas as pd"
   ]
  },
  {
   "cell_type": "code",
   "execution_count": 3,
   "metadata": {},
   "outputs": [],
   "source": [
    "import pickle\n",
    "from pymongo import MongoClient\n",
    "\n",
    "mongo_client = MongoClient('this_mongo')\n",
    "data_collection = mongo_client.data.datasets\n",
    "\n",
    "target_dict_from_mongo = data_collection.find_one({\"dataset\" : \"target\"})\n",
    "target_from_mongo = pickle.loads(target_dict_from_mongo[\"data\"])\n",
    "features_dict_from_mongo = data_collection.find_one({\"dataset\" : \"features\"})\n",
    "features_from_mongo = pickle.loads(features_dict_from_mongo[\"data\"])"
   ]
  },
  {
   "cell_type": "code",
   "execution_count": 4,
   "metadata": {},
   "outputs": [],
   "source": [
    "from sklearn.ensemble import RandomForestClassifier\n",
    "from sklearn.model_selection import GridSearchCV"
   ]
  },
  {
   "cell_type": "code",
   "execution_count": 5,
   "metadata": {},
   "outputs": [
    {
     "data": {
      "text/html": [
       "<div>\n",
       "<style scoped>\n",
       "    .dataframe tbody tr th:only-of-type {\n",
       "        vertical-align: middle;\n",
       "    }\n",
       "\n",
       "    .dataframe tbody tr th {\n",
       "        vertical-align: top;\n",
       "    }\n",
       "\n",
       "    .dataframe thead th {\n",
       "        text-align: right;\n",
       "    }\n",
       "</style>\n",
       "<table border=\"1\" class=\"dataframe\">\n",
       "  <thead>\n",
       "    <tr style=\"text-align: right;\">\n",
       "      <th></th>\n",
       "      <th>0</th>\n",
       "      <th>1</th>\n",
       "      <th>2</th>\n",
       "      <th>3</th>\n",
       "    </tr>\n",
       "  </thead>\n",
       "  <tbody>\n",
       "    <tr>\n",
       "      <th>mean_fit_time</th>\n",
       "      <td>0.0786349</td>\n",
       "      <td>0.247693</td>\n",
       "      <td>0.390326</td>\n",
       "      <td>0.713871</td>\n",
       "    </tr>\n",
       "    <tr>\n",
       "      <th>std_fit_time</th>\n",
       "      <td>0.0196134</td>\n",
       "      <td>0.0350818</td>\n",
       "      <td>0.0377458</td>\n",
       "      <td>0.0144686</td>\n",
       "    </tr>\n",
       "    <tr>\n",
       "      <th>mean_score_time</th>\n",
       "      <td>0.00682774</td>\n",
       "      <td>0.0160707</td>\n",
       "      <td>0.0195105</td>\n",
       "      <td>0.0358316</td>\n",
       "    </tr>\n",
       "    <tr>\n",
       "      <th>std_score_time</th>\n",
       "      <td>0.00293425</td>\n",
       "      <td>0.00878393</td>\n",
       "      <td>0.00251644</td>\n",
       "      <td>0.00280136</td>\n",
       "    </tr>\n",
       "    <tr>\n",
       "      <th>param_n_estimators</th>\n",
       "      <td>1</td>\n",
       "      <td>5</td>\n",
       "      <td>10</td>\n",
       "      <td>20</td>\n",
       "    </tr>\n",
       "    <tr>\n",
       "      <th>params</th>\n",
       "      <td>{'n_estimators': 1}</td>\n",
       "      <td>{'n_estimators': 5}</td>\n",
       "      <td>{'n_estimators': 10}</td>\n",
       "      <td>{'n_estimators': 20}</td>\n",
       "    </tr>\n",
       "    <tr>\n",
       "      <th>split0_test_score</th>\n",
       "      <td>0.80126</td>\n",
       "      <td>0.831261</td>\n",
       "      <td>0.839715</td>\n",
       "      <td>0.842698</td>\n",
       "    </tr>\n",
       "    <tr>\n",
       "      <th>split1_test_score</th>\n",
       "      <td>0.799271</td>\n",
       "      <td>0.827449</td>\n",
       "      <td>0.835571</td>\n",
       "      <td>0.838389</td>\n",
       "    </tr>\n",
       "    <tr>\n",
       "      <th>split2_test_score</th>\n",
       "      <td>0.799436</td>\n",
       "      <td>0.828112</td>\n",
       "      <td>0.836234</td>\n",
       "      <td>0.83756</td>\n",
       "    </tr>\n",
       "    <tr>\n",
       "      <th>split3_test_score</th>\n",
       "      <td>0.807858</td>\n",
       "      <td>0.833554</td>\n",
       "      <td>0.841015</td>\n",
       "      <td>0.847314</td>\n",
       "    </tr>\n",
       "    <tr>\n",
       "      <th>split4_test_score</th>\n",
       "      <td>0.804178</td>\n",
       "      <td>0.834687</td>\n",
       "      <td>0.844139</td>\n",
       "      <td>0.842812</td>\n",
       "    </tr>\n",
       "    <tr>\n",
       "      <th>mean_test_score</th>\n",
       "      <td>0.8024</td>\n",
       "      <td>0.831013</td>\n",
       "      <td>0.839334</td>\n",
       "      <td>0.841755</td>\n",
       "    </tr>\n",
       "    <tr>\n",
       "      <th>std_test_score</th>\n",
       "      <td>0.00325049</td>\n",
       "      <td>0.00286837</td>\n",
       "      <td>0.00315659</td>\n",
       "      <td>0.00351689</td>\n",
       "    </tr>\n",
       "    <tr>\n",
       "      <th>rank_test_score</th>\n",
       "      <td>4</td>\n",
       "      <td>3</td>\n",
       "      <td>2</td>\n",
       "      <td>1</td>\n",
       "    </tr>\n",
       "  </tbody>\n",
       "</table>\n",
       "</div>"
      ],
      "text/plain": [
       "                                      0                    1  \\\n",
       "mean_fit_time                 0.0786349             0.247693   \n",
       "std_fit_time                  0.0196134            0.0350818   \n",
       "mean_score_time              0.00682774            0.0160707   \n",
       "std_score_time               0.00293425           0.00878393   \n",
       "param_n_estimators                    1                    5   \n",
       "params              {'n_estimators': 1}  {'n_estimators': 5}   \n",
       "split0_test_score               0.80126             0.831261   \n",
       "split1_test_score              0.799271             0.827449   \n",
       "split2_test_score              0.799436             0.828112   \n",
       "split3_test_score              0.807858             0.833554   \n",
       "split4_test_score              0.804178             0.834687   \n",
       "mean_test_score                  0.8024             0.831013   \n",
       "std_test_score               0.00325049           0.00286837   \n",
       "rank_test_score                       4                    3   \n",
       "\n",
       "                                       2                     3  \n",
       "mean_fit_time                   0.390326              0.713871  \n",
       "std_fit_time                   0.0377458             0.0144686  \n",
       "mean_score_time                0.0195105             0.0358316  \n",
       "std_score_time                0.00251644            0.00280136  \n",
       "param_n_estimators                    10                    20  \n",
       "params              {'n_estimators': 10}  {'n_estimators': 20}  \n",
       "split0_test_score               0.839715              0.842698  \n",
       "split1_test_score               0.835571              0.838389  \n",
       "split2_test_score               0.836234               0.83756  \n",
       "split3_test_score               0.841015              0.847314  \n",
       "split4_test_score               0.844139              0.842812  \n",
       "mean_test_score                 0.839334              0.841755  \n",
       "std_test_score                0.00315659            0.00351689  \n",
       "rank_test_score                        2                     1  "
      ]
     },
     "execution_count": 5,
     "metadata": {},
     "output_type": "execute_result"
    }
   ],
   "source": [
    "rfc = RandomForestClassifier()\n",
    "gs_params = {\n",
    "    \"n_estimators\" : [1,5,10,20]\n",
    "}\n",
    "grid_search = GridSearchCV(rfc, gs_params, cv=5, return_train_score=False)\n",
    "\n",
    "grid_search.fit(features_from_mongo, target_from_mongo)\n",
    "\n",
    "pd.DataFrame(grid_search.cv_results_).T"
   ]
  },
  {
   "cell_type": "code",
   "execution_count": 6,
   "metadata": {},
   "outputs": [
    {
     "data": {
      "text/html": [
       "<div>\n",
       "<style scoped>\n",
       "    .dataframe tbody tr th:only-of-type {\n",
       "        vertical-align: middle;\n",
       "    }\n",
       "\n",
       "    .dataframe tbody tr th {\n",
       "        vertical-align: top;\n",
       "    }\n",
       "\n",
       "    .dataframe thead th {\n",
       "        text-align: right;\n",
       "    }\n",
       "</style>\n",
       "<table border=\"1\" class=\"dataframe\">\n",
       "  <thead>\n",
       "    <tr style=\"text-align: right;\">\n",
       "      <th></th>\n",
       "      <th>0</th>\n",
       "      <th>1</th>\n",
       "      <th>2</th>\n",
       "    </tr>\n",
       "  </thead>\n",
       "  <tbody>\n",
       "    <tr>\n",
       "      <th>mean_fit_time</th>\n",
       "      <td>0.762644</td>\n",
       "      <td>1.17543</td>\n",
       "      <td>1.77282</td>\n",
       "    </tr>\n",
       "    <tr>\n",
       "      <th>std_fit_time</th>\n",
       "      <td>0.0507719</td>\n",
       "      <td>0.0917418</td>\n",
       "      <td>0.102468</td>\n",
       "    </tr>\n",
       "    <tr>\n",
       "      <th>mean_score_time</th>\n",
       "      <td>0.0364158</td>\n",
       "      <td>0.0715637</td>\n",
       "      <td>0.0828474</td>\n",
       "    </tr>\n",
       "    <tr>\n",
       "      <th>std_score_time</th>\n",
       "      <td>0.00331159</td>\n",
       "      <td>0.0240483</td>\n",
       "      <td>0.00522333</td>\n",
       "    </tr>\n",
       "    <tr>\n",
       "      <th>param_n_estimators</th>\n",
       "      <td>20</td>\n",
       "      <td>30</td>\n",
       "      <td>40</td>\n",
       "    </tr>\n",
       "    <tr>\n",
       "      <th>params</th>\n",
       "      <td>{'n_estimators': 20}</td>\n",
       "      <td>{'n_estimators': 30}</td>\n",
       "      <td>{'n_estimators': 40}</td>\n",
       "    </tr>\n",
       "    <tr>\n",
       "      <th>split0_test_score</th>\n",
       "      <td>0.842035</td>\n",
       "      <td>0.841538</td>\n",
       "      <td>0.844025</td>\n",
       "    </tr>\n",
       "    <tr>\n",
       "      <th>split1_test_score</th>\n",
       "      <td>0.8364</td>\n",
       "      <td>0.83872</td>\n",
       "      <td>0.835405</td>\n",
       "    </tr>\n",
       "    <tr>\n",
       "      <th>split2_test_score</th>\n",
       "      <td>0.83524</td>\n",
       "      <td>0.83872</td>\n",
       "      <td>0.839881</td>\n",
       "    </tr>\n",
       "    <tr>\n",
       "      <th>split3_test_score</th>\n",
       "      <td>0.844662</td>\n",
       "      <td>0.84748</td>\n",
       "      <td>0.848309</td>\n",
       "    </tr>\n",
       "    <tr>\n",
       "      <th>split4_test_score</th>\n",
       "      <td>0.843973</td>\n",
       "      <td>0.843475</td>\n",
       "      <td>0.846128</td>\n",
       "    </tr>\n",
       "    <tr>\n",
       "      <th>mean_test_score</th>\n",
       "      <td>0.840462</td>\n",
       "      <td>0.841987</td>\n",
       "      <td>0.842749</td>\n",
       "    </tr>\n",
       "    <tr>\n",
       "      <th>std_test_score</th>\n",
       "      <td>0.00390426</td>\n",
       "      <td>0.00328427</td>\n",
       "      <td>0.00460695</td>\n",
       "    </tr>\n",
       "    <tr>\n",
       "      <th>rank_test_score</th>\n",
       "      <td>3</td>\n",
       "      <td>2</td>\n",
       "      <td>1</td>\n",
       "    </tr>\n",
       "  </tbody>\n",
       "</table>\n",
       "</div>"
      ],
      "text/plain": [
       "                                       0                     1  \\\n",
       "mean_fit_time                   0.762644               1.17543   \n",
       "std_fit_time                   0.0507719             0.0917418   \n",
       "mean_score_time                0.0364158             0.0715637   \n",
       "std_score_time                0.00331159             0.0240483   \n",
       "param_n_estimators                    20                    30   \n",
       "params              {'n_estimators': 20}  {'n_estimators': 30}   \n",
       "split0_test_score               0.842035              0.841538   \n",
       "split1_test_score                 0.8364               0.83872   \n",
       "split2_test_score                0.83524               0.83872   \n",
       "split3_test_score               0.844662               0.84748   \n",
       "split4_test_score               0.843973              0.843475   \n",
       "mean_test_score                 0.840462              0.841987   \n",
       "std_test_score                0.00390426            0.00328427   \n",
       "rank_test_score                        3                     2   \n",
       "\n",
       "                                       2  \n",
       "mean_fit_time                    1.77282  \n",
       "std_fit_time                    0.102468  \n",
       "mean_score_time                0.0828474  \n",
       "std_score_time                0.00522333  \n",
       "param_n_estimators                    40  \n",
       "params              {'n_estimators': 40}  \n",
       "split0_test_score               0.844025  \n",
       "split1_test_score               0.835405  \n",
       "split2_test_score               0.839881  \n",
       "split3_test_score               0.848309  \n",
       "split4_test_score               0.846128  \n",
       "mean_test_score                 0.842749  \n",
       "std_test_score                0.00460695  \n",
       "rank_test_score                        1  "
      ]
     },
     "execution_count": 6,
     "metadata": {},
     "output_type": "execute_result"
    }
   ],
   "source": [
    "rfc = RandomForestClassifier()\n",
    "gs_params = {\n",
    "    \"n_estimators\" : [20, 30, 40]\n",
    "}\n",
    "grid_search = GridSearchCV(rfc, gs_params, cv=5, return_train_score=False)\n",
    "\n",
    "grid_search.fit(features_from_mongo, target_from_mongo)\n",
    "\n",
    "pd.DataFrame(grid_search.cv_results_).T"
   ]
  },
  {
   "cell_type": "code",
   "execution_count": 7,
   "metadata": {},
   "outputs": [
    {
     "data": {
      "text/plain": [
       "2535301200456458802993406410752"
      ]
     },
     "execution_count": 7,
     "metadata": {},
     "output_type": "execute_result"
    }
   ],
   "source": [
    "2**(len(features_from_mongo.columns))"
   ]
  },
  {
   "cell_type": "code",
   "execution_count": 8,
   "metadata": {},
   "outputs": [],
   "source": [
    "best_estimator = grid_search.best_estimator_"
   ]
  },
  {
   "cell_type": "code",
   "execution_count": 9,
   "metadata": {},
   "outputs": [
    {
     "data": {
      "text/plain": [
       "age                                   0.230420\n",
       "hours_per_week                        0.119678\n",
       "capital_gain                          0.112875\n",
       "marital_status_ Married-civ-spouse    0.062383\n",
       "relationship_ Husband                 0.053024\n",
       "capital_loss                          0.038517\n",
       "occupation_ Exec-managerial           0.024018\n",
       "education_ Bachelors                  0.022809\n",
       "occupation_ Prof-specialty            0.020481\n",
       "education_ Masters                    0.016481\n",
       "marital_status_ Never-married         0.015394\n",
       "gender                                0.014831\n",
       "education_ HS-grad                    0.014107\n",
       "relationship_ Not-in-family           0.013232\n",
       "workclass_ Private                    0.012008\n",
       "education_ Some-college               0.009987\n",
       "relationship_ Own-child               0.009822\n",
       "workclass_ Self-emp-not-inc           0.009351\n",
       "marital_status_ Divorced              0.009329\n",
       "education_ Prof-school                0.009068\n",
       "dtype: float64"
      ]
     },
     "execution_count": 9,
     "metadata": {},
     "output_type": "execute_result"
    }
   ],
   "source": [
    "feature_importances = best_estimator.feature_importances_\n",
    "feature_importances = pd.Series(feature_importances, index=features_from_mongo.columns)\n",
    "feature_importances = feature_importances.sort_values(ascending=False)\n",
    "feature_importances[:20]"
   ]
  },
  {
   "cell_type": "code",
   "execution_count": 10,
   "metadata": {},
   "outputs": [
    {
     "data": {
      "text/plain": [
       "Index(['age', 'hours_per_week', 'capital_gain',\n",
       "       'marital_status_ Married-civ-spouse', 'relationship_ Husband'],\n",
       "      dtype='object')"
      ]
     },
     "execution_count": 10,
     "metadata": {},
     "output_type": "execute_result"
    }
   ],
   "source": [
    "top_5 = feature_importances[:5].index\n",
    "top_5"
   ]
  },
  {
   "cell_type": "code",
   "execution_count": 11,
   "metadata": {},
   "outputs": [
    {
     "data": {
      "text/plain": [
       "Index(['age', 'hours_per_week', 'capital_gain',\n",
       "       'marital_status_ Married-civ-spouse', 'relationship_ Husband',\n",
       "       'capital_loss', 'occupation_ Exec-managerial', 'education_ Bachelors',\n",
       "       'occupation_ Prof-specialty', 'education_ Masters',\n",
       "       'marital_status_ Never-married', 'gender', 'education_ HS-grad',\n",
       "       'relationship_ Not-in-family', 'workclass_ Private',\n",
       "       'education_ Some-college', 'relationship_ Own-child',\n",
       "       'workclass_ Self-emp-not-inc', 'marital_status_ Divorced',\n",
       "       'education_ Prof-school'],\n",
       "      dtype='object')"
      ]
     },
     "execution_count": 11,
     "metadata": {},
     "output_type": "execute_result"
    }
   ],
   "source": [
    "top_10 = feature_importances[:20].index\n",
    "top_10"
   ]
  },
  {
   "cell_type": "code",
   "execution_count": 12,
   "metadata": {},
   "outputs": [],
   "source": [
    "binary_features = list(feature_importances.index)\n",
    "binary_features.remove(\"age\")\n",
    "binary_features.remove(\"hours_per_week\")\n",
    "binary_features.remove(\"capital_gain\")\n",
    "binary_features.remove(\"capital_loss\")"
   ]
  },
  {
   "cell_type": "code",
   "execution_count": 13,
   "metadata": {},
   "outputs": [],
   "source": [
    "scores = []\n",
    "for i in range(1, len(binary_features[:30])):\n",
    "    rfc = RandomForestClassifier(n_estimators=30)\n",
    "    grid_search = GridSearchCV(rfc, {}, cv=5, return_train_score=False)\n",
    "    grid_search.fit(features_from_mongo[binary_features[:i]], target_from_mongo)\n",
    "    scores.append(grid_search.best_score_)"
   ]
  },
  {
   "cell_type": "code",
   "execution_count": 14,
   "metadata": {},
   "outputs": [],
   "source": [
    "import matplotlib.pyplot as plt\n",
    "%matplotlib inline"
   ]
  },
  {
   "cell_type": "code",
   "execution_count": 15,
   "metadata": {},
   "outputs": [
    {
     "data": {
      "text/plain": [
       "[<matplotlib.lines.Line2D at 0x7f137cb904e0>]"
      ]
     },
     "execution_count": 15,
     "metadata": {},
     "output_type": "execute_result"
    },
    {
     "data": {
      "image/png": "[encoded data removed]",
      "text/plain": [
       "<Figure size 432x288 with 1 Axes>"
      ]
     },
     "metadata": {},
     "output_type": "display_data"
    }
   ],
   "source": [
    "plt.plot(scores)"
   ]
  },
  {
   "cell_type": "code",
   "execution_count": 16,
   "metadata": {},
   "outputs": [
    {
     "name": "stdout",
     "output_type": "stream",
     "text": [
      "(0.75107751475366358, 'marital_status_ Married-civ-spouse')\n",
      "(0.75101120615343808, 'relationship_ Husband')\n",
      "(0.78005437305218484, 'occupation_ Exec-managerial')\n",
      "(0.79586897420595448, 'education_ Bachelors')\n",
      "(0.81678933757708372, 'occupation_ Prof-specialty')\n",
      "(0.81785027518069098, 'education_ Masters')\n",
      "(0.8187454412837345, 'marital_status_ Never-married')\n",
      "(0.81904382998474901, 'gender')\n",
      "(0.81937537298587626, 'education_ HS-grad')\n",
      "(0.81891121278429813, 'relationship_ Not-in-family')\n"
     ]
    }
   ],
   "source": [
    "for item in zip(scores[:10], binary_features[:10]):\n",
    "    print(item)"
   ]
  },
  {
   "cell_type": "code",
   "execution_count": 17,
   "metadata": {},
   "outputs": [
    {
     "data": {
      "text/plain": [
       "['marital_status_ Married-civ-spouse',\n",
       " 'relationship_ Husband',\n",
       " 'occupation_ Exec-managerial',\n",
       " 'education_ Bachelors',\n",
       " 'occupation_ Prof-specialty',\n",
       " 'education_ Masters',\n",
       " 'marital_status_ Never-married',\n",
       " 'gender']"
      ]
     },
     "execution_count": 17,
     "metadata": {},
     "output_type": "execute_result"
    }
   ],
   "source": [
    "final_features_names = binary_features[:8]\n",
    "final_features_names"
   ]
  },
  {
   "cell_type": "code",
   "execution_count": 18,
   "metadata": {},
   "outputs": [],
   "source": [
    "final_features_names_dict = {\n",
    "    \"dataset\" : \"final_features_names\",\n",
    "    \"data\" : final_features_names\n",
    "}"
   ]
  },
  {
   "cell_type": "code",
   "execution_count": 19,
   "metadata": {},
   "outputs": [
    {
     "data": {
      "text/plain": [
       "<pymongo.results.DeleteResult at 0x7f137f043608>"
      ]
     },
     "execution_count": 19,
     "metadata": {},
     "output_type": "execute_result"
    }
   ],
   "source": [
    "data_collection.delete_many({\"dataset\" : \"final_features_names\"})"
   ]
  },
  {
   "cell_type": "code",
   "execution_count": 20,
   "metadata": {},
   "outputs": [
    {
     "data": {
      "text/plain": [
       "<pymongo.results.InsertOneResult at 0x7f137eeca988>"
      ]
     },
     "execution_count": 20,
     "metadata": {},
     "output_type": "execute_result"
    }
   ],
   "source": [
    "data_collection.insert_one(final_features_names_dict)"
   ]
  },
  {
   "cell_type": "code",
   "execution_count": 21,
   "metadata": {
    "scrolled": true
   },
   "outputs": [
    {
     "data": {
      "text/plain": [
       "<Figure size 432x288 with 0 Axes>"
      ]
     },
     "metadata": {},
     "output_type": "display_data"
    }
   ],
   "source": [
    "%run src/final_feature_preparation.py"
   ]
  }
 ],
 "metadata": {
  "kernelspec": {
   "display_name": "Python 3",
   "language": "python",
   "name": "python3"
  },
  "language_info": {
   "codemirror_mode": {
    "name": "ipython",
    "version": 3
   },
   "file_extension": ".py",
   "mimetype": "text/x-python",
   "name": "python",
   "nbconvert_exporter": "python",
   "pygments_lexer": "ipython3",
   "version": "3.6.3"
  }
 },
 "nbformat": 4,
 "nbformat_minor": 2
}
