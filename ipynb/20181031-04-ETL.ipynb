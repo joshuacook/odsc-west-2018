{
 "cells": [
  {
   "cell_type": "code",
   "execution_count": 1,
   "metadata": {},
   "outputs": [
    {
     "name": "stdout",
     "output_type": "stream",
     "text": [
      "/home/jovyan\n"
     ]
    }
   ],
   "source": [
    "cd /home/jovyan"
   ]
  },
  {
   "cell_type": "code",
   "execution_count": 2,
   "metadata": {},
   "outputs": [],
   "source": [
    "from lib.database import query_database, query_to_dataframe "
   ]
  },
  {
   "cell_type": "code",
   "execution_count": 3,
   "metadata": {},
   "outputs": [
    {
     "data": {
      "text/html": [
       "<div>\n",
       "<style scoped>\n",
       "    .dataframe tbody tr th:only-of-type {\n",
       "        vertical-align: middle;\n",
       "    }\n",
       "\n",
       "    .dataframe tbody tr th {\n",
       "        vertical-align: top;\n",
       "    }\n",
       "\n",
       "    .dataframe thead th {\n",
       "        text-align: right;\n",
       "    }\n",
       "</style>\n",
       "<table border=\"1\" class=\"dataframe\">\n",
       "  <thead>\n",
       "    <tr style=\"text-align: right;\">\n",
       "      <th></th>\n",
       "      <th>count</th>\n",
       "    </tr>\n",
       "  </thead>\n",
       "  <tbody>\n",
       "    <tr>\n",
       "      <th>0</th>\n",
       "      <td>2399</td>\n",
       "    </tr>\n",
       "  </tbody>\n",
       "</table>\n",
       "</div>"
      ],
      "text/plain": [
       "   count\n",
       "0   2399"
      ]
     },
     "execution_count": 3,
     "metadata": {},
     "output_type": "execute_result"
    }
   ],
   "source": [
    "query_to_dataframe(\"\"\"\n",
    "    SELECT COUNT(*) FROM adult WHERE (\n",
    "        (native_country = ' ?') OR\n",
    "        (occupation = ' ?') OR\n",
    "        (workclass = ' ?')\n",
    "    )\n",
    "\"\"\")"
   ]
  },
  {
   "cell_type": "code",
   "execution_count": 4,
   "metadata": {},
   "outputs": [],
   "source": [
    "pre_etl_adult_df = query_to_dataframe(\"\"\"\n",
    "    SELECT\n",
    "        age,\n",
    "        capital_gain,\n",
    "        capital_loss,\n",
    "        education,\n",
    "        gender,\n",
    "        hours_per_week, \n",
    "        income_label,\n",
    "        marital_status,\n",
    "        native_country,\n",
    "        occupation,\n",
    "        race,\n",
    "        relationship,\n",
    "        workclass\n",
    "    FROM adult\n",
    "    WHERE (\n",
    "        (native_country != ' ?') AND\n",
    "        (occupation != ' ?') AND\n",
    "        (workclass != ' ?')\n",
    "    );\n",
    "\"\"\")"
   ]
  },
  {
   "cell_type": "code",
   "execution_count": 5,
   "metadata": {},
   "outputs": [
    {
     "data": {
      "text/plain": [
       "(30162, 13)"
      ]
     },
     "execution_count": 5,
     "metadata": {},
     "output_type": "execute_result"
    }
   ],
   "source": [
    "pre_etl_adult_df.shape"
   ]
  },
  {
   "cell_type": "code",
   "execution_count": 6,
   "metadata": {
    "scrolled": true
   },
   "outputs": [
    {
     "data": {
      "text/html": [
       "<div>\n",
       "<style scoped>\n",
       "    .dataframe tbody tr th:only-of-type {\n",
       "        vertical-align: middle;\n",
       "    }\n",
       "\n",
       "    .dataframe tbody tr th {\n",
       "        vertical-align: top;\n",
       "    }\n",
       "\n",
       "    .dataframe thead th {\n",
       "        text-align: right;\n",
       "    }\n",
       "</style>\n",
       "<table border=\"1\" class=\"dataframe\">\n",
       "  <thead>\n",
       "    <tr style=\"text-align: right;\">\n",
       "      <th></th>\n",
       "      <th>age</th>\n",
       "      <th>capital_gain</th>\n",
       "      <th>capital_loss</th>\n",
       "      <th>education</th>\n",
       "      <th>gender</th>\n",
       "      <th>hours_per_week</th>\n",
       "      <th>income_label</th>\n",
       "      <th>marital_status</th>\n",
       "      <th>native_country</th>\n",
       "      <th>occupation</th>\n",
       "      <th>race</th>\n",
       "      <th>relationship</th>\n",
       "      <th>workclass</th>\n",
       "    </tr>\n",
       "  </thead>\n",
       "  <tbody>\n",
       "    <tr>\n",
       "      <th>0</th>\n",
       "      <td>39</td>\n",
       "      <td>2174</td>\n",
       "      <td>0</td>\n",
       "      <td>Bachelors</td>\n",
       "      <td>Male</td>\n",
       "      <td>40</td>\n",
       "      <td>&lt;=50K</td>\n",
       "      <td>Never-married</td>\n",
       "      <td>United-States</td>\n",
       "      <td>Adm-clerical</td>\n",
       "      <td>White</td>\n",
       "      <td>Not-in-family</td>\n",
       "      <td>State-gov</td>\n",
       "    </tr>\n",
       "    <tr>\n",
       "      <th>1</th>\n",
       "      <td>50</td>\n",
       "      <td>0</td>\n",
       "      <td>0</td>\n",
       "      <td>Bachelors</td>\n",
       "      <td>Male</td>\n",
       "      <td>13</td>\n",
       "      <td>&lt;=50K</td>\n",
       "      <td>Married-civ-spouse</td>\n",
       "      <td>United-States</td>\n",
       "      <td>Exec-managerial</td>\n",
       "      <td>White</td>\n",
       "      <td>Husband</td>\n",
       "      <td>Self-emp-not-inc</td>\n",
       "    </tr>\n",
       "    <tr>\n",
       "      <th>2</th>\n",
       "      <td>38</td>\n",
       "      <td>0</td>\n",
       "      <td>0</td>\n",
       "      <td>HS-grad</td>\n",
       "      <td>Male</td>\n",
       "      <td>40</td>\n",
       "      <td>&lt;=50K</td>\n",
       "      <td>Divorced</td>\n",
       "      <td>United-States</td>\n",
       "      <td>Handlers-cleaners</td>\n",
       "      <td>White</td>\n",
       "      <td>Not-in-family</td>\n",
       "      <td>Private</td>\n",
       "    </tr>\n",
       "    <tr>\n",
       "      <th>3</th>\n",
       "      <td>53</td>\n",
       "      <td>0</td>\n",
       "      <td>0</td>\n",
       "      <td>11th</td>\n",
       "      <td>Male</td>\n",
       "      <td>40</td>\n",
       "      <td>&lt;=50K</td>\n",
       "      <td>Married-civ-spouse</td>\n",
       "      <td>United-States</td>\n",
       "      <td>Handlers-cleaners</td>\n",
       "      <td>Black</td>\n",
       "      <td>Husband</td>\n",
       "      <td>Private</td>\n",
       "    </tr>\n",
       "    <tr>\n",
       "      <th>4</th>\n",
       "      <td>28</td>\n",
       "      <td>0</td>\n",
       "      <td>0</td>\n",
       "      <td>Bachelors</td>\n",
       "      <td>Female</td>\n",
       "      <td>40</td>\n",
       "      <td>&lt;=50K</td>\n",
       "      <td>Married-civ-spouse</td>\n",
       "      <td>Cuba</td>\n",
       "      <td>Prof-specialty</td>\n",
       "      <td>Black</td>\n",
       "      <td>Wife</td>\n",
       "      <td>Private</td>\n",
       "    </tr>\n",
       "  </tbody>\n",
       "</table>\n",
       "</div>"
      ],
      "text/plain": [
       "   age  capital_gain  capital_loss   education   gender  hours_per_week  \\\n",
       "0   39          2174             0   Bachelors     Male              40   \n",
       "1   50             0             0   Bachelors     Male              13   \n",
       "2   38             0             0     HS-grad     Male              40   \n",
       "3   53             0             0        11th     Male              40   \n",
       "4   28             0             0   Bachelors   Female              40   \n",
       "\n",
       "  income_label       marital_status  native_country          occupation  \\\n",
       "0        <=50K        Never-married   United-States        Adm-clerical   \n",
       "1        <=50K   Married-civ-spouse   United-States     Exec-managerial   \n",
       "2        <=50K             Divorced   United-States   Handlers-cleaners   \n",
       "3        <=50K   Married-civ-spouse   United-States   Handlers-cleaners   \n",
       "4        <=50K   Married-civ-spouse            Cuba      Prof-specialty   \n",
       "\n",
       "     race    relationship          workclass  \n",
       "0   White   Not-in-family          State-gov  \n",
       "1   White         Husband   Self-emp-not-inc  \n",
       "2   White   Not-in-family            Private  \n",
       "3   Black         Husband            Private  \n",
       "4   Black            Wife            Private  "
      ]
     },
     "execution_count": 6,
     "metadata": {},
     "output_type": "execute_result"
    }
   ],
   "source": [
    "pre_etl_adult_df.head()"
   ]
  },
  {
   "cell_type": "code",
   "execution_count": 7,
   "metadata": {},
   "outputs": [
    {
     "data": {
      "text/plain": [
       "age                int64\n",
       "capital_gain       int64\n",
       "capital_loss       int64\n",
       "education         object\n",
       "gender            object\n",
       "hours_per_week     int64\n",
       "income_label      object\n",
       "marital_status    object\n",
       "native_country    object\n",
       "occupation        object\n",
       "race              object\n",
       "relationship      object\n",
       "workclass         object\n",
       "dtype: object"
      ]
     },
     "execution_count": 7,
     "metadata": {},
     "output_type": "execute_result"
    }
   ],
   "source": [
    "pre_etl_adult_df.dtypes"
   ]
  },
  {
   "cell_type": "code",
   "execution_count": 8,
   "metadata": {},
   "outputs": [
    {
     "data": {
      "text/plain": [
       "(array([' <=50K', ' >50K'], dtype=object),\n",
       " array([' Male', ' Female'], dtype=object))"
      ]
     },
     "execution_count": 8,
     "metadata": {},
     "output_type": "execute_result"
    }
   ],
   "source": [
    "pre_etl_adult_df.income_label.unique(), pre_etl_adult_df.gender.unique()"
   ]
  },
  {
   "cell_type": "code",
   "execution_count": 9,
   "metadata": {},
   "outputs": [],
   "source": [
    "pre_etl_adult_df[\"income_label\"] = (pre_etl_adult_df[\"income_label\"] == \" >50K\").astype(int)\n",
    "pre_etl_adult_df[\"gender\"] = (pre_etl_adult_df[\"gender\"] == \" Female\").astype(int)"
   ]
  },
  {
   "cell_type": "code",
   "execution_count": 10,
   "metadata": {
    "scrolled": false
   },
   "outputs": [
    {
     "name": "stdout",
     "output_type": "stream",
     "text": [
      "no results to fetch\n",
      "adult_for_modeling table created\n"
     ]
    }
   ],
   "source": [
    "from psycopg2 import ProgrammingError\n",
    "try:\n",
    "    query_database(\"\"\"\n",
    "    BEGIN;\n",
    "    DROP TABLE adult_for_modeling;\n",
    "    COMMIT;\n",
    "    \"\"\")\n",
    "except ProgrammingError as e:\n",
    "    print(e)\n",
    "\n",
    "query_database(\"\"\"\n",
    "    BEGIN;\n",
    "    CREATE TABLE adult_for_modeling (\n",
    "        age INTEGER,\n",
    "        capital_gain INTEGER,\n",
    "        capital_loss INTEGER,\n",
    "        education TEXT,\n",
    "        gender INTEGER,\n",
    "        hours_per_week INTEGER,\n",
    "        income_label INTEGER,\n",
    "        marital_status TEXT,\n",
    "        native_country TEXT,\n",
    "        occupation TEXT,\n",
    "        race TEXT,\n",
    "        relationship TEXT,\n",
    "        workclass TEXT\n",
    "    );\n",
    "    COMMIT;\n",
    "    \"\"\", fetch_res=False)\n",
    "print(\"adult_for_modeling table created\")"
   ]
  },
  {
   "cell_type": "code",
   "execution_count": 11,
   "metadata": {},
   "outputs": [],
   "source": [
    "query_database(f\"\"\"\n",
    "    BEGIN;\n",
    "    INSERT INTO adult_for_modeling (\n",
    "        age,\n",
    "        capital_gain,\n",
    "        capital_loss,\n",
    "        education,\n",
    "        gender,\n",
    "        hours_per_week,\n",
    "        income_label,\n",
    "        marital_status,\n",
    "        native_country,\n",
    "        occupation,\n",
    "        race,\n",
    "        relationship,\n",
    "        workclass\n",
    "    )\n",
    "    VALUES {','.join(str(record) for record in pre_etl_adult_df.to_records(index=False))};\n",
    "    COMMIT;\n",
    "\"\"\", fetch_res=False)"
   ]
  },
  {
   "cell_type": "code",
   "execution_count": 12,
   "metadata": {},
   "outputs": [
    {
     "data": {
      "text/plain": [
       "[{'count': 30162}]"
      ]
     },
     "execution_count": 12,
     "metadata": {},
     "output_type": "execute_result"
    }
   ],
   "source": [
    "query_database(\"SELECT COUNT(*) FROM adult_for_modeling\")"
   ]
  },
  {
   "cell_type": "code",
   "execution_count": 13,
   "metadata": {},
   "outputs": [
    {
     "name": "stdout",
     "output_type": "stream",
     "text": [
      "no results to fetch\n"
     ]
    }
   ],
   "source": [
    "from psycopg2 import ProgrammingError\n",
    "try:\n",
    "    query_database(\"\"\"\n",
    "    BEGIN;\n",
    "    DROP TABLE adult_for_modeling;\n",
    "    COMMIT;\n",
    "    \"\"\")\n",
    "except ProgrammingError as e:\n",
    "    print(e)"
   ]
  },
  {
   "cell_type": "code",
   "execution_count": 14,
   "metadata": {},
   "outputs": [
    {
     "name": "stdout",
     "output_type": "stream",
     "text": [
      "table \"adult_for_modeling\" does not exist\n",
      "\n",
      "adult_for_modeling table created\n"
     ]
    }
   ],
   "source": [
    "%run src/load_data.py"
   ]
  },
  {
   "cell_type": "code",
   "execution_count": 15,
   "metadata": {},
   "outputs": [
    {
     "data": {
      "text/plain": [
       "[{'count': 30162}]"
      ]
     },
     "execution_count": 15,
     "metadata": {},
     "output_type": "execute_result"
    }
   ],
   "source": [
    "query_database(\"SELECT COUNT(*) FROM adult_for_modeling\")"
   ]
  }
 ],
 "metadata": {
  "kernelspec": {
   "display_name": "Python 3",
   "language": "python",
   "name": "python3"
  },
  "language_info": {
   "codemirror_mode": {
    "name": "ipython",
    "version": 3
   },
   "file_extension": ".py",
   "mimetype": "text/x-python",
   "name": "python",
   "nbconvert_exporter": "python",
   "pygments_lexer": "ipython3",
   "version": "3.6.3"
  }
 },
 "nbformat": 4,
 "nbformat_minor": 2
}
