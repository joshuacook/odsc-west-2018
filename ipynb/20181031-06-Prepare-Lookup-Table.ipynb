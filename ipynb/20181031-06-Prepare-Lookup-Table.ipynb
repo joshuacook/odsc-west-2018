{
 "cells": [
  {
   "cell_type": "code",
   "execution_count": 1,
   "metadata": {},
   "outputs": [
    {
     "name": "stdout",
     "output_type": "stream",
     "text": [
      "/home/jovyan\n"
     ]
    }
   ],
   "source": [
    "cd /home/jovyan"
   ]
  },
  {
   "cell_type": "code",
   "execution_count": 2,
   "metadata": {},
   "outputs": [],
   "source": [
    "import pickle\n",
    "from pymongo import MongoClient\n",
    "\n",
    "mongo_client = MongoClient('this_mongo')\n",
    "data_collection = mongo_client.data.datasets\n",
    "\n",
    "target_dict_from_mongo = data_collection.find_one({\"dataset\" : \"target\"})\n",
    "target_from_mongo = pickle.loads(target_dict_from_mongo[\"data\"])\n",
    "features_dict_from_mongo = data_collection.find_one({\"dataset\" : \"features\"})\n",
    "features_from_mongo = pickle.loads(features_dict_from_mongo[\"data\"])\n",
    "final_features_names_dict_from_mongo = data_collection.find_one({\"dataset\" : \"final_features_names\"})\n",
    "final_features_names_from_mongo = final_features_names_dict_from_mongo[\"data\"]"
   ]
  },
  {
   "cell_type": "code",
   "execution_count": 3,
   "metadata": {},
   "outputs": [],
   "source": [
    "from sklearn.ensemble import RandomForestClassifier\n",
    "from sklearn.model_selection import GridSearchCV"
   ]
  },
  {
   "cell_type": "code",
   "execution_count": 4,
   "metadata": {},
   "outputs": [
    {
     "data": {
      "text/plain": [
       "0.81904382998474901"
      ]
     },
     "execution_count": 4,
     "metadata": {},
     "output_type": "execute_result"
    }
   ],
   "source": [
    "rfc = RandomForestClassifier(n_estimators=30)\n",
    "grid_search = GridSearchCV(rfc, {}, cv=5, return_train_score=False)\n",
    "grid_search.fit(features_from_mongo[final_features_names_from_mongo], target_from_mongo)\n",
    "best_estimator = grid_search.best_estimator_\n",
    "grid_search.best_score_"
   ]
  },
  {
   "cell_type": "code",
   "execution_count": 5,
   "metadata": {},
   "outputs": [],
   "source": [
    "marital_status_Married = [0, 1]\n",
    "relationship_Husband   = [0, 1]\n",
    "marital_status_Never   = [0, 1]\n",
    "education_Bachelors    = [0, 1]\n",
    "occupation_Exec        = [0, 1]\n",
    "occupation_Prof        = [0, 1]\n",
    "gender                 = [0, 1]\n",
    "education_Masters      = [0, 1]\n",
    "\n",
    "features_for_lookup = [ \n",
    "    [val_1, val_2, val_3, val_4, val_5, val_6, val_7, val_8]\n",
    "        for val_1 in marital_status_Married\n",
    "        for val_2 in relationship_Husband\n",
    "        for val_3 in marital_status_Never\n",
    "        for val_4 in education_Bachelors\n",
    "        for val_5 in occupation_Exec\n",
    "        for val_6 in occupation_Prof\n",
    "        for val_7 in gender\n",
    "        for val_8 in education_Masters\n",
    "]"
   ]
  },
  {
   "cell_type": "code",
   "execution_count": 6,
   "metadata": {},
   "outputs": [
    {
     "data": {
      "text/plain": [
       "(256, 8)"
      ]
     },
     "execution_count": 6,
     "metadata": {},
     "output_type": "execute_result"
    }
   ],
   "source": [
    "import numpy as np\n",
    "\n",
    "features_for_lookup_np = np.array(features_for_lookup)\n",
    "features_for_lookup_np.shape"
   ]
  },
  {
   "cell_type": "code",
   "execution_count": 7,
   "metadata": {},
   "outputs": [],
   "source": [
    "predictions = best_estimator.predict(features_for_lookup_np)"
   ]
  },
  {
   "cell_type": "code",
   "execution_count": 8,
   "metadata": {},
   "outputs": [],
   "source": [
    "marital_status_Married = ['0', '1']\n",
    "relationship_Husband   = ['0', '1']\n",
    "marital_status_Never   = ['0', '1']\n",
    "education_Bachelors    = ['0', '1']\n",
    "occupation_Exec        = ['0', '1']\n",
    "occupation_Prof        = ['0', '1']\n",
    "gender                 = ['0', '1']\n",
    "education_Masters      = ['0', '1']\n",
    "\n",
    "features_as_keys = [ \n",
    "    ''.join([val_1, val_2, val_3, val_4, val_5, val_6, val_7, val_8])\n",
    "        for val_1 in marital_status_Married\n",
    "        for val_2 in relationship_Husband\n",
    "        for val_3 in marital_status_Never\n",
    "        for val_4 in education_Bachelors\n",
    "        for val_5 in occupation_Exec\n",
    "        for val_6 in occupation_Prof\n",
    "        for val_7 in gender\n",
    "        for val_8 in education_Masters\n",
    "]"
   ]
  },
  {
   "cell_type": "code",
   "execution_count": 9,
   "metadata": {},
   "outputs": [],
   "source": [
    "lookup_table = [\n",
    "    {\"feature_set\" : feature_set,\n",
    "     \"prediction\" : prediction }\n",
    "    for feature_set, prediction in zip(features_as_keys, predictions.astype(str))\n",
    "]"
   ]
  },
  {
   "cell_type": "code",
   "execution_count": 10,
   "metadata": {},
   "outputs": [],
   "source": [
    "import pickle\n",
    "from pymongo import MongoClient\n",
    "\n",
    "mongo_client = MongoClient('this_mongo')\n",
    "predictions_collection = mongo_client.data.predictions"
   ]
  },
  {
   "cell_type": "code",
   "execution_count": 11,
   "metadata": {},
   "outputs": [],
   "source": [
    "predictions_collection.drop()"
   ]
  },
  {
   "cell_type": "code",
   "execution_count": 12,
   "metadata": {},
   "outputs": [
    {
     "data": {
      "text/plain": [
       "<pymongo.results.InsertManyResult at 0x7f9da484ba48>"
      ]
     },
     "execution_count": 12,
     "metadata": {},
     "output_type": "execute_result"
    }
   ],
   "source": [
    "predictions_collection.insert_many(lookup_table)"
   ]
  },
  {
   "cell_type": "code",
   "execution_count": 13,
   "metadata": {},
   "outputs": [],
   "source": [
    "%run src/prepare_lookup_table.py"
   ]
  },
  {
   "cell_type": "code",
   "execution_count": 14,
   "metadata": {
    "scrolled": true
   },
   "outputs": [
    {
     "data": {
      "text/plain": [
       "256"
      ]
     },
     "execution_count": 14,
     "metadata": {},
     "output_type": "execute_result"
    }
   ],
   "source": [
    "predictions_collection.count_documents({})"
   ]
  },
  {
   "cell_type": "code",
   "execution_count": 15,
   "metadata": {},
   "outputs": [
    {
     "data": {
      "text/plain": [
       "{'_id': ObjectId('5bd9e76e615d0701a37d1d30'),\n",
       " 'feature_set': '01010101',\n",
       " 'prediction': '1'}"
      ]
     },
     "execution_count": 15,
     "metadata": {},
     "output_type": "execute_result"
    }
   ],
   "source": [
    "predictions_collection.find_one({\"feature_set\" : \"01010101\"})"
   ]
  }
 ],
 "metadata": {
  "kernelspec": {
   "display_name": "Python 3",
   "language": "python",
   "name": "python3"
  },
  "language_info": {
   "codemirror_mode": {
    "name": "ipython",
    "version": 3
   },
   "file_extension": ".py",
   "mimetype": "text/x-python",
   "name": "python",
   "nbconvert_exporter": "python",
   "pygments_lexer": "ipython3",
   "version": "3.6.3"
  }
 },
 "nbformat": 4,
 "nbformat_minor": 2
}
